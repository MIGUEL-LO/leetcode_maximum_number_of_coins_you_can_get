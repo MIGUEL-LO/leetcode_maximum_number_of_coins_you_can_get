{
 "metadata": {
  "language_info": {
   "codemirror_mode": {
    "name": "ipython",
    "version": 3
   },
   "file_extension": ".py",
   "mimetype": "text/x-python",
   "name": "python",
   "nbconvert_exporter": "python",
   "pygments_lexer": "ipython3",
   "version": "3.7.6"
  },
  "orig_nbformat": 2,
  "kernelspec": {
   "name": "python376jvsc74a57bd0d6b3c7b22e13957f9cfc541415b0e50443bb85d435875f71ed0fba416c507ad6",
   "display_name": "Python 3.7.6 64-bit ('MScProQtum': conda)"
  }
 },
 "nbformat": 4,
 "nbformat_minor": 2,
 "cells": [
  {
   "cell_type": "code",
   "execution_count": 1,
   "metadata": {},
   "outputs": [],
   "source": [
    "def maxCoins(self, piles):\n",
    "    \"\"\"\n",
    "    :type piles: List[int]\n",
    "    :rtype: int\n",
    "    \"\"\"\n",
    "    sorted_piles = sorted(piles, reverse=True)\n",
    "    highest_middle_score = 0\n",
    "    val_divi = int(len(piles)/3)\n",
    "    \n",
    "    for i in range(val_divi):\n",
    "        increase_index = i + 1\n",
    "        optimal_number_index = i + increase_index\n",
    "        highest_middle_score += sorted_piles[optimal_number_index]\n",
    "    return highest_middle_score"
   ]
  },
  {
   "source": [
    "### Sort the piles list:\n",
    "For the example: piles = $[9,8,7,6,5,1,2,3,4]$.  \n",
    "\n",
    "If we sort it: sorted_piles = $[9,8,7,6,5,4,3,2,1]$.  \n",
    "\n",
    "To find the optimal combination for you.  \n",
    "\n",
    "When arranging the piles in three's. The best combination is of the remaining 2 highest numbers followed by the remaining lowest number.  \n",
    "\n",
    "coin_pile_in_threes = $[(9,8,1),(7,6,2),(5,4,3)]$  \n",
    "\n",
    "With corresponding indexes belonging to the sorted_piles: coin_pile_in_threes_index = $[(0,1,8), (2,3,7), (4,5,6)]$  \n",
    "\n",
    "As you can see: Your optimal combination will be made out of the middle number between the individual piles of three's.\n",
    "\n",
    "highest_middle = 8 + 6 + 4 = 18.  \n",
    "\n",
    "with corresponding indexes = (1, 3, 5).  \n",
    "\n",
    "val_divi tells us how many 3 piles of coins there are."
   ],
   "cell_type": "markdown",
   "metadata": {}
  },
  {
   "source": [
    "### Finding your optimal score\n",
    "\n",
    "Notice that in:  \n",
    "\n",
    "for i in range(val_divi)  \n",
    "\n",
    "i = 0, i = 1, i = 2. And the idexes for your optimal numbers are (1,3,5).  \n",
    "\n",
    "Meaning that we can find our optimal number combination from the sorted list(sorted_piles) by finding the values of the index (1,3,5) and summing them.  \n",
    "\n",
    "When i = 0, if we add 1 to i, we can use it to find the value for the index 1 in sorted_piles.  \n",
    "\n",
    "When i = 1, if we add 2 to i, we can use it to find the value for the index 3 in sorted_piles.  \n",
    "\n",
    "When i = 2, if we add 3 to i, we can use it to find the value for the index 5 in sorted_piles.  \n",
    "\n",
    "The additional index terms added to i allow us to find the optimal value in sorted_piles at a given optimal number index. Calculated by increase_index_terms = i + 1\n",
    "\n",
    "Notice:  \n",
    "\n",
    "For i = 0, we need to add an increase_index_terms of 1. increase_index_terms = 0 + 1. optimal_number_index = 0 + 0 + 1 = 1\n",
    "\n",
    "For i = 1, we need to add an increase_index_terms of 2. increase_index_terms = 1 + 1. optimal_number_index = 1 + 1 + 1 = 3\n",
    "\n",
    "For i = 2, we need to add an increase_index_terms of 3. increase_index_terms = 2 + 1. optimal_number_index = 2 + 2 + 1 = 5\n",
    "\n",
    "Use optimal_number_index to then index sorted_piles and find your optimal combination.\n",
    "\n"
   ],
   "cell_type": "markdown",
   "metadata": {}
  },
  {
   "cell_type": "code",
   "execution_count": null,
   "metadata": {},
   "outputs": [],
   "source": []
  }
 ]
}